{
  "nbformat": 4,
  "nbformat_minor": 0,
  "metadata": {
    "colab": {
      "provenance": []
    },
    "kernelspec": {
      "name": "python3",
      "display_name": "Python 3"
    },
    "language_info": {
      "name": "python"
    }
  },
  "cells": [
    {
      "cell_type": "markdown",
      "source": [
        "# **Judul: Implementasi Image Processing Menggunakan 7 Langkah Pemrosesan Gambar**\n",
        "\n",
        "### **KELOMPOK 3:**\n",
        "1.   EKA SETYA NINGSING - 221011400399\n",
        "2.   KEZIA PATRICIA ZEFANYA - 221011402076\n",
        "3.   MOCHAMMAD IQBAL SUYUDI W. - 221011400378\n",
        "4.   MU'AMMAR KURNIAWAN - 221011400390\n",
        "5.   MUHAMMAD MICKO BIAGI - 221011400396\n",
        "\n",
        "# **Tujuan Proyek**\n",
        "\n",
        "### **Proyek ini bertujuan untuk:**\n",
        "\n",
        "*   Menerapkan 7 teknik dasar image processing pada satu gambar.\n",
        "*   Memberikan pemahaman komprehensif tentang manipulasi gambar, termasuk kecerahan, konversi skala abu-abu, blurring, dan zoom.\n",
        "*   Menghasilkan solusi interaktif yang ramah pengguna, seperti slider untuk kecerahan dan zoom.\n",
        "\n",
        "\n",
        "\n"
      ],
      "metadata": {
        "id": "z0OSnGWMvONd"
      }
    },
    {
      "cell_type": "code",
      "execution_count": null,
      "metadata": {
        "id": "IlpxXv96P945"
      },
      "outputs": [],
      "source": [
        "from google.colab import files\n",
        "uploaded = files.upload()"
      ]
    },
    {
      "cell_type": "code",
      "source": [
        "import cv2\n",
        "import numpy as np\n",
        "import matplotlib.pyplot as plt\n",
        "from google.colab.patches import cv2_imshow"
      ],
      "metadata": {
        "id": "ugxVgbRwQHCg"
      },
      "execution_count": null,
      "outputs": []
    },
    {
      "cell_type": "code",
      "source": [
        "# Membuka gambar kelompok3.png\n",
        "img = cv2.imread('kelompok3.png')\n",
        "\n",
        "# Menampilkan gambar asli\n",
        "print(\"Gambar Asli:\")\n",
        "cv2_imshow(img)"
      ],
      "metadata": {
        "id": "v8rNDREJQLhz"
      },
      "execution_count": null,
      "outputs": []
    },
    {
      "cell_type": "markdown",
      "source": [
        "## **Open Image**\n",
        "\n",
        "Membuka gambar contoh \"kelompok3.png\" menggunakan OpenCV sebagai input utama."
      ],
      "metadata": {
        "id": "h_IJZhMmzNAR"
      }
    },
    {
      "cell_type": "code",
      "source": [
        "# Konversi gambar ke grayscale\n",
        "gray = cv2.cvtColor(img, cv2.COLOR_BGR2GRAY)\n",
        "\n",
        "# Menampilkan gambar grayscale\n",
        "print(\"Gambar Grayscale:\")\n",
        "cv2_imshow(gray)\n",
        "\n",
        "# Menyimpan hasil grayscale\n",
        "cv2.imwrite('kelompok3_grayscale.png', gray)"
      ],
      "metadata": {
        "id": "CjK3G24TQnXq"
      },
      "execution_count": null,
      "outputs": []
    },
    {
      "cell_type": "markdown",
      "source": [
        "## **Grayscale (Konversi Skala Abu-abu)**\n",
        "\n",
        "Gambar dikonversi ke skala abu-abu untuk menghilangkan informasi warna, yang memudahkan analisis struktur gambar."
      ],
      "metadata": {
        "id": "yg4W_nNBy8-1"
      }
    },
    {
      "cell_type": "code",
      "source": [
        "# Menerapkan Gaussian Blur\n",
        "blur = cv2.GaussianBlur(img, (15, 15), 0)\n",
        "\n",
        "# Menampilkan gambar hasil blur\n",
        "print(\"Gambar Blurring:\")\n",
        "cv2_imshow(blur)\n",
        "\n",
        "# Menyimpan hasil blur\n",
        "cv2.imwrite('kelompok3_blur.png', blur)"
      ],
      "metadata": {
        "id": "WOkVlHGHQ3LF",
        "collapsed": true
      },
      "execution_count": null,
      "outputs": []
    },
    {
      "cell_type": "markdown",
      "source": [
        "## **Blurring (Pengaburan)**\n",
        "\n",
        "Gambar diberi efek blur menggunakan filter Gaussian untuk mengurangi noise dan detail yang berlebihan."
      ],
      "metadata": {
        "id": "xoSoSw6qzbyO"
      }
    },
    {
      "cell_type": "code",
      "source": [
        "import cv2\n",
        "import numpy as np\n",
        "from google.colab.patches import cv2_imshow\n",
        "\n",
        "# Membaca gambar input\n",
        "img = cv2.imread('kelompok3.png')\n",
        "\n",
        "# Menentukan koordinat area blur secara lebih presisi\n",
        "x1, y1 = 1430, 100  # Kiri atas (x1, y1)\n",
        "x2, y2 = 2000, 1200  # Kanan bawah (x2, y2)\n",
        "\n",
        "# Membuat salinan gambar\n",
        "img_blur = img.copy()\n",
        "\n",
        "# Mengambil area wajah (ROI - Region of Interest)\n",
        "roi = img_blur[y1:y2, x1:x2]\n",
        "\n",
        "# Menerapkan Gaussian Blur hanya pada area wajah\n",
        "roi_blur = cv2.GaussianBlur(roi, (55, 55), 0)\n",
        "\n",
        "# Mengembalikan area blur ke gambar asli\n",
        "img_blur[y1:y2, x1:x2] = roi_blur\n",
        "\n",
        "# Menampilkan hasil blur fokus\n",
        "print(\"Gambar dengan area blur pada wajah M. Micko Biagi:\")\n",
        "cv2_imshow(img_blur)\n",
        "\n",
        "# Menyimpan hasil gambar\n",
        "cv2.imwrite('kelompok3_blur_micko_fix.png', img_blur)\n",
        "print(\"Hasil blur disimpan sebagai 'kelompok3_blur_micko_fix.png'\")"
      ],
      "metadata": {
        "id": "qgiVJs1wRxqE",
        "collapsed": true
      },
      "execution_count": null,
      "outputs": []
    },
    {
      "cell_type": "markdown",
      "source": [
        "## **Blurring Focus (Fokus Pengaburan)**\n",
        "\n",
        "Gambar diberi efek blur menggunakan filter Gaussian untuk mengurangi noise dan detail yang berlebihan pada sisi tertentu."
      ],
      "metadata": {
        "id": "daanwv-OzfJX"
      }
    },
    {
      "cell_type": "code",
      "source": [
        "# Menentukan faktor zoom out (contoh: 0.5x pengecilan)\n",
        "zoom_out_scale = 0.2\n",
        "\n",
        "# Menghitung dimensi baru\n",
        "new_width = int(width * zoom_out_scale)\n",
        "new_height = int(height * zoom_out_scale)\n",
        "\n",
        "# Resize gambar untuk Zoom Out\n",
        "zoom_out = cv2.resize(img, (new_width, new_height), interpolation=cv2.INTER_AREA)\n",
        "\n",
        "# Menampilkan hasil Zoom Out\n",
        "print(\"Gambar Zoom Out (0.5x):\")\n",
        "cv2_imshow(zoom_out)\n",
        "\n",
        "# Menyimpan hasil gambar Zoom Out\n",
        "cv2.imwrite('kelompok3_zoom_out.png', zoom_out)\n",
        "print(\"Hasil Zoom Out disimpan sebagai 'kelompok3_zoom_out.png'\")\n"
      ],
      "metadata": {
        "id": "JCOdinOgaw3Q"
      },
      "execution_count": null,
      "outputs": []
    },
    {
      "cell_type": "markdown",
      "source": [
        "## **Zoom Out**\n",
        "\n",
        "Zoom Out: Mengecilkan gambar untuk melihat keseluruhan struktur dalam satu tampilan."
      ],
      "metadata": {
        "id": "gxHxDqTZzypv"
      }
    },
    {
      "cell_type": "code",
      "source": [
        "import cv2\n",
        "from google.colab.patches import cv2_imshow\n",
        "\n",
        "# Membaca gambar\n",
        "img = cv2.imread('kelompok3.png')\n",
        "\n",
        "# Menentukan koordinat area fokus (contoh wajah tengah, Mu'ammar K.)\n",
        "# Koordinat kiri atas (x1, y1) dan kanan bawah (x2, y2) - Sesuaikan dengan gambar\n",
        "x1, y1 = 730, 350  # Kiri atas\n",
        "x2, y2 = 1170, 1100  # Kanan bawah\n",
        "\n",
        "# Crop area fokus (wajah)\n",
        "cropped = img[y1:y2, x1:x2]\n",
        "\n",
        "# Memperbesar hasil crop dengan faktor 2x\n",
        "zoom_in = cv2.resize(cropped, None, fx=1, fy=1, interpolation=cv2.INTER_CUBIC)\n",
        "\n",
        "# Menampilkan hasil Zoom In\n",
        "print(\"Gambar Zoom In Fokus (Crop dan Perbesar):\")\n",
        "cv2_imshow(zoom_in)\n",
        "\n",
        "# Menyimpan hasil Zoom In\n",
        "cv2.imwrite('kelompok3_zoom_in_focus.png', zoom_in)\n",
        "print(\"Hasil Zoom In disimpan sebagai 'kelompok3_zoom_in_focus.png'\")"
      ],
      "metadata": {
        "id": "yHd4gK4Uba_0"
      },
      "execution_count": null,
      "outputs": []
    },
    {
      "cell_type": "markdown",
      "source": [
        "## **Zoom In**\n",
        "\n",
        "Zoom In: Memperbesar gambar hingga beberapa kali lipat untuk menampilkan detail gambar dengan interpolasi berkualitas tinggi."
      ],
      "metadata": {
        "id": "CEYkebArz6f6"
      }
    },
    {
      "cell_type": "code",
      "source": [
        "import cv2\n",
        "import numpy as np\n",
        "from google.colab.patches import cv2_imshow\n",
        "from ipywidgets import interact, FloatSlider\n",
        "\n",
        "# Membaca gambar\n",
        "img = cv2.imread('kelompok3.png')\n",
        "\n",
        "# Fungsi untuk Zoom In dan Zoom Out\n",
        "def zoom(scale):\n",
        "    # Menghitung dimensi baru berdasarkan skala\n",
        "    height, width = img.shape[:2]\n",
        "    new_width = int(width * scale)\n",
        "    new_height = int(height * scale)\n",
        "\n",
        "    # Resize gambar dengan skala\n",
        "    zoomed_img = cv2.resize(img, (new_width, new_height), interpolation=cv2.INTER_AREA if scale < 1 else cv2.INTER_CUBIC)\n",
        "\n",
        "    # Jika Zoom In (lebih besar), crop bagian tengah agar pas layar\n",
        "    if scale > 1:\n",
        "        center_x, center_y = new_width // 2, new_height // 2\n",
        "        crop_size_x, crop_size_y = width, height\n",
        "        zoomed_img = zoomed_img[center_y - crop_size_y // 2:center_y + crop_size_y // 2,\n",
        "                                center_x - crop_size_x // 2:center_x + crop_size_x // 2]\n",
        "\n",
        "    # Menampilkan gambar hasil zoom\n",
        "    print(f\"Faktor Zoom: {scale}x\")\n",
        "    cv2_imshow(zoomed_img)\n",
        "\n",
        "# Slider interaktif untuk Zoom In (1x - 5x) dan Zoom Out (0.1x - 1x)\n",
        "print(\"Geser slider ke kanan untuk Zoom In (memperbesar), ke kiri untuk Zoom Out (mengecilkan):\")\n",
        "interact(zoom, scale=FloatSlider(min=0.1, max=5, step=0.1, value=1))"
      ],
      "metadata": {
        "id": "wjZH1JEAtFub"
      },
      "execution_count": null,
      "outputs": []
    },
    {
      "cell_type": "markdown",
      "source": [
        "## **Interaktif Zoom In/Out dengan Slider**\n",
        "\n",
        "- Fitur interaktif memungkinkan pengguna memperbesar dan memperkecil gambar menggunakan slider di Google Colab.\n",
        "- Slider dapat mengatur skala antara 0.1x (Zoom Out) hingga 5x (Zoom In)."
      ],
      "metadata": {
        "id": "NLakhgB40ZYl"
      }
    },
    {
      "cell_type": "code",
      "source": [
        "# Flip Horizontal\n",
        "flip_horizontal = cv2.flip(img, 1)\n",
        "\n",
        "# Menampilkan hasil flip\n",
        "print(\"Gambar Flip Horizontal:\")\n",
        "cv2_imshow(flip_horizontal)\n",
        "\n",
        "# Menyimpan hasil flip\n",
        "cv2.imwrite('kelompok3_flip_horizontal.png', flip_horizontal)"
      ],
      "metadata": {
        "id": "vlh_34UVoIVd"
      },
      "execution_count": null,
      "outputs": []
    },
    {
      "cell_type": "markdown",
      "source": [
        "## **Flip Horizontal**\n",
        "\n",
        "Melakukan pembalikan gambar secara horizontal untuk memberikan perspektif yang berbeda pada gambar."
      ],
      "metadata": {
        "id": "H-JLMNIv0_pm"
      }
    },
    {
      "cell_type": "code",
      "source": [
        "# Flip Vertikal\n",
        "flip_vertical = cv2.flip(img, 0)\n",
        "\n",
        "print(\"Gambar Flip Vertikal:\")\n",
        "cv2_imshow(flip_vertical)\n",
        "\n",
        "# Menyimpan hasil flip\n",
        "cv2.imwrite('kelompok3_flip_vertical.png', flip_vertical)\n"
      ],
      "metadata": {
        "id": "j7Z67gfbo3AN"
      },
      "execution_count": null,
      "outputs": []
    },
    {
      "cell_type": "markdown",
      "source": [
        "## **Flip Vertikal**\n",
        "\n",
        "Melakukan pembalikan gambar secara vertikal untuk memberikan perspektif yang berbeda pada gambar."
      ],
      "metadata": {
        "id": "togATV691Map"
      }
    },
    {
      "cell_type": "code",
      "source": [
        "# Menambah kecerahan\n",
        "bright_add = cv2.add(img, np.ones(img.shape, dtype=\"uint8\") * 50)\n",
        "\n",
        "# Mengurangi kecerahan\n",
        "bright_subtract = cv2.subtract(img, np.ones(img.shape, dtype=\"uint8\") * 50)\n",
        "\n",
        "# Membagi kecerahan\n",
        "bright_divide = cv2.divide(img, 2)\n",
        "\n",
        "# Mengalikan kecerahan\n",
        "bright_multiply = cv2.multiply(img, 1.5)\n",
        "\n",
        "# Menampilkan hasil\n",
        "print(\"Tambah Kecerahan:\")\n",
        "cv2_imshow(bright_add)\n",
        "\n",
        "print(\"Kurangi Kecerahan:\")\n",
        "cv2_imshow(bright_subtract)\n",
        "\n",
        "print(\"Bagi Kecerahan:\")\n",
        "cv2_imshow(bright_divide)\n",
        "\n",
        "print(\"Kali Kecerahan:\")\n",
        "cv2_imshow(bright_multiply)\n",
        "\n",
        "# Menyimpan hasil\n",
        "cv2.imwrite('kelompok3_brightness_add.png', bright_add)\n",
        "cv2.imwrite('kelompok3_brightness_subtract.png', bright_subtract)\n",
        "cv2.imwrite('kelompok3_brightness_divide.png', bright_divide)\n",
        "cv2.imwrite('kelompok3_brightness_multiply.png', bright_multiply)"
      ],
      "metadata": {
        "id": "gFj26CYVpA07"
      },
      "execution_count": null,
      "outputs": []
    },
    {
      "cell_type": "markdown",
      "source": [
        "## **Brightness Otomatis (Manual Arithmetic Operation)**\n",
        "Pengaturan kecerahan dilakukan secara otomatis dengan menambahkan, mengurangi, membagi, dan mengalikan nilai piksel gambar menggunakan operasi aritmatika."
      ],
      "metadata": {
        "id": "kzW6BXX21ira"
      }
    },
    {
      "cell_type": "code",
      "source": [
        "import cv2\n",
        "import numpy as np\n",
        "from google.colab.patches import cv2_imshow\n",
        "from ipywidgets import interact, IntSlider\n",
        "\n",
        "# Membaca gambar\n",
        "img = cv2.imread('kelompok3.png')\n",
        "\n",
        "# Fungsi untuk menyesuaikan kecerahan\n",
        "def adjust_brightness(brightness):\n",
        "    # Konversi gambar ke float32 untuk menghindari overflow\n",
        "    bright_img = img.astype(np.float32)\n",
        "\n",
        "    # Tambahkan nilai brightness\n",
        "    bright_img = bright_img + brightness\n",
        "\n",
        "    # Batasi nilai piksel antara 0 - 255\n",
        "    bright_img = np.clip(bright_img, 0, 255).astype(np.uint8)\n",
        "\n",
        "    # Menampilkan gambar hasil\n",
        "    print(f\"Kecerahan: {brightness}\")\n",
        "    cv2_imshow(bright_img)\n",
        "\n",
        "# Menampilkan slider interaktif\n",
        "print(\"Geser slider ke kiri untuk mengurangi kecerahan, ke kanan untuk menambah kecerahan:\")\n",
        "interact(adjust_brightness, brightness=IntSlider(min=-100, max=100, step=1, value=0))\n"
      ],
      "metadata": {
        "id": "Jdr5G5-Dqs6b"
      },
      "execution_count": null,
      "outputs": []
    },
    {
      "cell_type": "markdown",
      "source": [
        "## **Brightness Adjustment (Pengaturan Kecerahan)**\n",
        "\n",
        "- Slider interaktif digunakan untuk meningkatkan atau menurunkan kecerahan gambar.\n",
        "- Geser ke kiri untuk menggelapkan gambar dan ke kanan untuk mencerahkan gambar."
      ],
      "metadata": {
        "id": "hCv68ZaQ1bDu"
      }
    },
    {
      "cell_type": "markdown",
      "source": [
        "# **Kesimpulan**\n",
        "Proyek ini memberikan wawasan mendalam tentang manipulasi gambar digital dan menunjukkan bagaimana 7 langkah pemrosesan gambar dapat diimplementasikan dengan baik dalam satu rangkaian kerja. Dengan fitur interaktif seperti slider untuk kecerahan dan zoom, proyek ini diharapkan dapat menjadi dasar untuk aplikasi image processing yang lebih kompleks di masa depan."
      ],
      "metadata": {
        "id": "0qAazg902Bmr"
      }
    }
  ]
}